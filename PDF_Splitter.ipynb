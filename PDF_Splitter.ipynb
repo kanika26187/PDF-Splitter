{
  "nbformat": 4,
  "nbformat_minor": 0,
  "metadata": {
    "colab": {
      "provenance": [],
      "authorship_tag": "ABX9TyNT45sMBT75PT6L25exUUZr",
      "include_colab_link": true
    },
    "kernelspec": {
      "name": "python3",
      "display_name": "Python 3"
    },
    "language_info": {
      "name": "python"
    }
  },
  "cells": [
    {
      "cell_type": "markdown",
      "metadata": {
        "id": "view-in-github",
        "colab_type": "text"
      },
      "source": [
        "<a href=\"https://colab.research.google.com/github/kanika26187/PDF-Splitter/blob/main/PDF_Splitter.ipynb\" target=\"_parent\"><img src=\"https://colab.research.google.com/assets/colab-badge.svg\" alt=\"Open In Colab\"/></a>"
      ]
    },
    {
      "cell_type": "code",
      "execution_count": null,
      "metadata": {
        "colab": {
          "base_uri": "https://localhost:8080/"
        },
        "id": "BDBxpLACPq4v",
        "outputId": "f8f4db58-9053-4809-efff-01b2a25664b0"
      },
      "outputs": [
        {
          "output_type": "stream",
          "name": "stdout",
          "text": [
            "Collecting PyPDF2\n",
            "  Downloading pypdf2-3.0.1-py3-none-any.whl.metadata (6.8 kB)\n",
            "Downloading pypdf2-3.0.1-py3-none-any.whl (232 kB)\n",
            "\u001b[2K   \u001b[90m━━━━━━━━━━━━━━━━━━━━━━━━━━━━━━━━━━━━━━━━\u001b[0m \u001b[32m232.6/232.6 kB\u001b[0m \u001b[31m3.0 MB/s\u001b[0m eta \u001b[36m0:00:00\u001b[0m\n",
            "\u001b[?25hInstalling collected packages: PyPDF2\n",
            "Successfully installed PyPDF2-3.0.1\n"
          ]
        }
      ],
      "source": [
        "!pip install PyPDF2"
      ]
    },
    {
      "cell_type": "code",
      "source": [
        "import os\n",
        "from PyPDF2 import PdfReader, PdfWriter\n",
        "\n",
        "def split_pdf(input_pdf, output_dir, split_page):\n",
        "    if not os.path.exists(output_dir):\n",
        "        os.makedirs(output_dir)\n",
        "\n",
        "    pdf = PdfReader(open(input_pdf, \"rb\"))\n",
        "    total_pages = len(pdf.pages)\n",
        "\n",
        "    if split_page < 1 or split_page >= total_pages:\n",
        "        raise ValueError(\"Split page number must be between 1 and the total number of pages minus one.\")\n",
        "\n",
        "    part1_writer = PdfWriter()\n",
        "    part2_writer = PdfWriter()\n",
        "\n",
        "    for page_num in range(total_pages):\n",
        "        if page_num < split_page:\n",
        "            part1_writer.add_page(pdf.pages[page_num])\n",
        "        else:\n",
        "            part2_writer.add_page(pdf.pages[page_num])\n",
        "\n",
        "    # Save the two parts\n",
        "    part1_filename = os.path.join(output_dir, 'part1.pdf')\n",
        "    part2_filename = os.path.join(output_dir, 'part2.pdf')\n",
        "\n",
        "    with open(part1_filename, 'wb') as part1_pdf:\n",
        "        part1_writer.write(part1_pdf)\n",
        "\n",
        "    with open(part2_filename, 'wb') as part2_pdf:\n",
        "        part2_writer.write(part2_pdf)\n",
        "\n",
        "    print(f'Created: {part1_filename}')\n",
        "    print(f'Created: {part2_filename}')\n",
        "if __name__ == \"__main__\":\n",
        "    input_pdf = '/content/Research.pdf'  # Replace with the path to your input PDF file\n",
        "    output_dir = '/content/ouput'  # Replace with the directory where you want to save the output PDFs\n",
        "    split_page = int(input(\"Enter the page number where you want to split the PDF: \"))\n",
        "    split_pdf(input_pdf, output_dir, split_page)\n"
      ],
      "metadata": {
        "colab": {
          "base_uri": "https://localhost:8080/"
        },
        "id": "H11rr5H2P2uq",
        "outputId": "6eed5a28-db89-4794-985c-ac9bb2ef2006"
      },
      "execution_count": null,
      "outputs": [
        {
          "output_type": "stream",
          "name": "stdout",
          "text": [
            "Enter the page number where you want to split the PDF: 4\n",
            "Created: /content/ouput/part1.pdf\n",
            "Created: /content/ouput/part2.pdf\n"
          ]
        }
      ]
    },
    {
      "cell_type": "code",
      "source": [
        "# H.W. Split every single page of the PDF and save into new PDF files\n",
        "\n",
        "from PyPDF2 import PdfReader, PdfWriter\n",
        "import os\n",
        "\n",
        "def split_each_page(input_pdf_path, output_dir):\n",
        "    reader = PdfReader(input_pdf_path)\n",
        "    total_pages = len(reader.pages)\n",
        "\n",
        "    if not os.path.exists(output_dir):\n",
        "        os.makedirs(output_dir)\n",
        "\n",
        "    for i in range(total_pages):\n",
        "        writer = PdfWriter()\n",
        "        writer.add_page(reader.pages[i])\n",
        "\n",
        "        output_file = os.path.join(output_dir, f'page_{i+1}.pdf')\n",
        "        with open(output_file, 'wb') as f:\n",
        "            writer.write(f)\n",
        "        print(f\"Created: {output_file}\")\n",
        "\n",
        "# Example usage\n",
        "input_pdf = \"/content/Research.pdf\"  # Use the correct path if different\n",
        "output_dir = \"/content/output_pages\" # Use a separate output folder if needed\n",
        "split_each_page(input_pdf, output_dir)\n"
      ],
      "metadata": {
        "colab": {
          "base_uri": "https://localhost:8080/"
        },
        "id": "ZE76cUW2Q7xB",
        "outputId": "8fb4bbf1-70b5-4a08-8651-6b94adf7ce68"
      },
      "execution_count": null,
      "outputs": [
        {
          "output_type": "stream",
          "name": "stdout",
          "text": [
            "Created: /content/output_pages/page_1.pdf\n",
            "Created: /content/output_pages/page_2.pdf\n",
            "Created: /content/output_pages/page_3.pdf\n",
            "Created: /content/output_pages/page_4.pdf\n",
            "Created: /content/output_pages/page_5.pdf\n",
            "Created: /content/output_pages/page_6.pdf\n",
            "Created: /content/output_pages/page_7.pdf\n",
            "Created: /content/output_pages/page_8.pdf\n"
          ]
        }
      ]
    }
  ]
}